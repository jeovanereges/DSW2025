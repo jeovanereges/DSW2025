{
 "cells": [
  {
   "cell_type": "markdown",
   "metadata": {},
   "source": [
    "---\n",
    "# **DataCoin: Dataset Sazonal para Estratégias Quantitativas com Bitcoin**\n",
    "---"
   ]
  },
  {
   "cell_type": "markdown",
   "metadata": {},
   "source": [
    "## **Etapa 1: Importação das Bibliotecas**"
   ]
  },
  {
   "cell_type": "code",
   "execution_count": 1,
   "metadata": {
    "ExecuteTime": {
     "end_time": "2024-09-01T10:54:59.014454Z",
     "start_time": "2024-09-01T10:54:59.010689Z"
    }
   },
   "outputs": [],
   "source": [
    "# Em caso de erro ao obter dados execute o comando:\n",
    "# pip install yfinance --upgrade --no-cache-dir\n",
    "# Ou\n",
    "# pip uninstall yfinance\n",
    "# pip install yfinance --upgrade --no-cache-dir\n",
    "\n",
    "import pandas as pd\n",
    "import yfinance as yf\n",
    "import plotly.graph_objects as go"
   ]
  },
  {
   "cell_type": "markdown",
   "metadata": {},
   "source": [
    "## **Etapa 2: Obtenção dos Dados**"
   ]
  },
  {
   "cell_type": "code",
   "execution_count": 2,
   "metadata": {
    "ExecuteTime": {
     "end_time": "2024-09-01T10:54:59.753061Z",
     "start_time": "2024-09-01T10:54:59.059184Z"
    }
   },
   "outputs": [
    {
     "name": "stderr",
     "output_type": "stream",
     "text": [
      "C:\\Users\\Jeovane\\AppData\\Local\\Temp\\ipykernel_15832\\384073167.py:7: FutureWarning: YF.download() has changed argument auto_adjust default to True\n",
      "  ativo = yf.download(\"BTC-USD\", multi_level_index=False, start=inicio, end=fim, interval=\"1d\", session=session)[[\"Open\", \"High\", \"Low\", \"Close\"]]\n",
      "[*********************100%***********************]  1 of 1 completed\n"
     ]
    }
   ],
   "source": [
    "from curl_cffi import requests\n",
    "session = requests.Session(impersonate=\"chrome\")\n",
    "\n",
    "inicio = \"2017-01-01\"\n",
    "fim = \"2025-06-01\"\n",
    "\n",
    "ativo = yf.download(\"BTC-USD\", multi_level_index=False, start=inicio, end=fim, interval=\"1d\", session=session)[[\"Open\", \"High\", \"Low\", \"Close\"]]"
   ]
  },
  {
   "cell_type": "code",
   "execution_count": 3,
   "metadata": {
    "ExecuteTime": {
     "end_time": "2024-09-01T10:54:59.826180Z",
     "start_time": "2024-09-01T10:54:59.820871Z"
    }
   },
   "outputs": [
    {
     "data": {
      "application/vnd.microsoft.datawrangler.viewer.v0+json": {
       "columns": [
        {
         "name": "Date",
         "rawType": "datetime64[ns]",
         "type": "datetime"
        },
        {
         "name": "Open",
         "rawType": "float64",
         "type": "float"
        },
        {
         "name": "High",
         "rawType": "float64",
         "type": "float"
        },
        {
         "name": "Low",
         "rawType": "float64",
         "type": "float"
        },
        {
         "name": "Close",
         "rawType": "float64",
         "type": "float"
        }
       ],
       "ref": "96740e02-a116-4a9e-b090-55bb80535d1d",
       "rows": [
        [
         "2017-01-01 00:00:00",
         "963.6580200195312",
         "1003.0800170898438",
         "958.698974609375",
         "998.3250122070312"
        ],
        [
         "2017-01-02 00:00:00",
         "998.6170043945312",
         "1031.3900146484375",
         "996.7020263671875",
         "1021.75"
        ],
        [
         "2017-01-03 00:00:00",
         "1021.5999755859375",
         "1044.0799560546875",
         "1021.5999755859375",
         "1043.8399658203125"
        ],
        [
         "2017-01-04 00:00:00",
         "1044.4000244140625",
         "1159.4200439453125",
         "1044.4000244140625",
         "1154.72998046875"
        ],
        [
         "2017-01-05 00:00:00",
         "1156.72998046875",
         "1191.0999755859375",
         "910.4169921875",
         "1013.3800048828125"
        ]
       ],
       "shape": {
        "columns": 4,
        "rows": 5
       }
      },
      "text/html": [
       "<div>\n",
       "<style scoped>\n",
       "    .dataframe tbody tr th:only-of-type {\n",
       "        vertical-align: middle;\n",
       "    }\n",
       "\n",
       "    .dataframe tbody tr th {\n",
       "        vertical-align: top;\n",
       "    }\n",
       "\n",
       "    .dataframe thead th {\n",
       "        text-align: right;\n",
       "    }\n",
       "</style>\n",
       "<table border=\"1\" class=\"dataframe\">\n",
       "  <thead>\n",
       "    <tr style=\"text-align: right;\">\n",
       "      <th></th>\n",
       "      <th>Open</th>\n",
       "      <th>High</th>\n",
       "      <th>Low</th>\n",
       "      <th>Close</th>\n",
       "    </tr>\n",
       "    <tr>\n",
       "      <th>Date</th>\n",
       "      <th></th>\n",
       "      <th></th>\n",
       "      <th></th>\n",
       "      <th></th>\n",
       "    </tr>\n",
       "  </thead>\n",
       "  <tbody>\n",
       "    <tr>\n",
       "      <th>2017-01-01</th>\n",
       "      <td>963.658020</td>\n",
       "      <td>1003.080017</td>\n",
       "      <td>958.698975</td>\n",
       "      <td>998.325012</td>\n",
       "    </tr>\n",
       "    <tr>\n",
       "      <th>2017-01-02</th>\n",
       "      <td>998.617004</td>\n",
       "      <td>1031.390015</td>\n",
       "      <td>996.702026</td>\n",
       "      <td>1021.750000</td>\n",
       "    </tr>\n",
       "    <tr>\n",
       "      <th>2017-01-03</th>\n",
       "      <td>1021.599976</td>\n",
       "      <td>1044.079956</td>\n",
       "      <td>1021.599976</td>\n",
       "      <td>1043.839966</td>\n",
       "    </tr>\n",
       "    <tr>\n",
       "      <th>2017-01-04</th>\n",
       "      <td>1044.400024</td>\n",
       "      <td>1159.420044</td>\n",
       "      <td>1044.400024</td>\n",
       "      <td>1154.729980</td>\n",
       "    </tr>\n",
       "    <tr>\n",
       "      <th>2017-01-05</th>\n",
       "      <td>1156.729980</td>\n",
       "      <td>1191.099976</td>\n",
       "      <td>910.416992</td>\n",
       "      <td>1013.380005</td>\n",
       "    </tr>\n",
       "  </tbody>\n",
       "</table>\n",
       "</div>"
      ],
      "text/plain": [
       "                   Open         High          Low        Close\n",
       "Date                                                          \n",
       "2017-01-01   963.658020  1003.080017   958.698975   998.325012\n",
       "2017-01-02   998.617004  1031.390015   996.702026  1021.750000\n",
       "2017-01-03  1021.599976  1044.079956  1021.599976  1043.839966\n",
       "2017-01-04  1044.400024  1159.420044  1044.400024  1154.729980\n",
       "2017-01-05  1156.729980  1191.099976   910.416992  1013.380005"
      ]
     },
     "execution_count": 3,
     "metadata": {},
     "output_type": "execute_result"
    }
   ],
   "source": [
    "ativo.head()"
   ]
  },
  {
   "cell_type": "markdown",
   "metadata": {},
   "source": [
    "## **Etapa 3: Preparação dos Dados**"
   ]
  },
  {
   "cell_type": "code",
   "execution_count": 4,
   "metadata": {
    "ExecuteTime": {
     "end_time": "2024-09-01T10:54:59.914337Z",
     "start_time": "2024-09-01T10:54:59.909941Z"
    }
   },
   "outputs": [],
   "source": [
    "ativo = ativo.resample(\"ME\").agg(\n",
    "    {\"Open\": \"first\", \"High\": \"max\", \"Low\": \"min\", \"Close\": \"last\"}\n",
    ")"
   ]
  },
  {
   "cell_type": "code",
   "execution_count": 5,
   "metadata": {
    "ExecuteTime": {
     "end_time": "2024-09-01T10:54:59.982180Z",
     "start_time": "2024-09-01T10:54:59.977169Z"
    }
   },
   "outputs": [
    {
     "data": {
      "application/vnd.microsoft.datawrangler.viewer.v0+json": {
       "columns": [
        {
         "name": "Date",
         "rawType": "datetime64[ns]",
         "type": "datetime"
        },
        {
         "name": "Open",
         "rawType": "float64",
         "type": "float"
        },
        {
         "name": "High",
         "rawType": "float64",
         "type": "float"
        },
        {
         "name": "Low",
         "rawType": "float64",
         "type": "float"
        },
        {
         "name": "Close",
         "rawType": "float64",
         "type": "float"
        }
       ],
       "ref": "4d60556d-84cb-452a-a580-bb2a697e94bd",
       "rows": [
        [
         "2017-01-31 00:00:00",
         "963.6580200195312",
         "1191.0999755859375",
         "755.7559814453125",
         "970.4030151367188"
        ],
        [
         "2017-02-28 00:00:00",
         "970.9409790039062",
         "1200.3900146484375",
         "946.6909790039062",
         "1179.969970703125"
        ],
        [
         "2017-03-31 00:00:00",
         "1180.0400390625",
         "1280.31005859375",
         "903.7130126953125",
         "1071.7900390625"
        ],
        [
         "2017-04-30 00:00:00",
         "1071.7099609375",
         "1347.9100341796875",
         "1061.0899658203125",
         "1347.8900146484375"
        ],
        [
         "2017-05-31 00:00:00",
         "1348.300048828125",
         "2763.7099609375",
         "1348.300048828125",
         "2286.409912109375"
        ]
       ],
       "shape": {
        "columns": 4,
        "rows": 5
       }
      },
      "text/html": [
       "<div>\n",
       "<style scoped>\n",
       "    .dataframe tbody tr th:only-of-type {\n",
       "        vertical-align: middle;\n",
       "    }\n",
       "\n",
       "    .dataframe tbody tr th {\n",
       "        vertical-align: top;\n",
       "    }\n",
       "\n",
       "    .dataframe thead th {\n",
       "        text-align: right;\n",
       "    }\n",
       "</style>\n",
       "<table border=\"1\" class=\"dataframe\">\n",
       "  <thead>\n",
       "    <tr style=\"text-align: right;\">\n",
       "      <th></th>\n",
       "      <th>Open</th>\n",
       "      <th>High</th>\n",
       "      <th>Low</th>\n",
       "      <th>Close</th>\n",
       "    </tr>\n",
       "    <tr>\n",
       "      <th>Date</th>\n",
       "      <th></th>\n",
       "      <th></th>\n",
       "      <th></th>\n",
       "      <th></th>\n",
       "    </tr>\n",
       "  </thead>\n",
       "  <tbody>\n",
       "    <tr>\n",
       "      <th>2017-01-31</th>\n",
       "      <td>963.658020</td>\n",
       "      <td>1191.099976</td>\n",
       "      <td>755.755981</td>\n",
       "      <td>970.403015</td>\n",
       "    </tr>\n",
       "    <tr>\n",
       "      <th>2017-02-28</th>\n",
       "      <td>970.940979</td>\n",
       "      <td>1200.390015</td>\n",
       "      <td>946.690979</td>\n",
       "      <td>1179.969971</td>\n",
       "    </tr>\n",
       "    <tr>\n",
       "      <th>2017-03-31</th>\n",
       "      <td>1180.040039</td>\n",
       "      <td>1280.310059</td>\n",
       "      <td>903.713013</td>\n",
       "      <td>1071.790039</td>\n",
       "    </tr>\n",
       "    <tr>\n",
       "      <th>2017-04-30</th>\n",
       "      <td>1071.709961</td>\n",
       "      <td>1347.910034</td>\n",
       "      <td>1061.089966</td>\n",
       "      <td>1347.890015</td>\n",
       "    </tr>\n",
       "    <tr>\n",
       "      <th>2017-05-31</th>\n",
       "      <td>1348.300049</td>\n",
       "      <td>2763.709961</td>\n",
       "      <td>1348.300049</td>\n",
       "      <td>2286.409912</td>\n",
       "    </tr>\n",
       "  </tbody>\n",
       "</table>\n",
       "</div>"
      ],
      "text/plain": [
       "                   Open         High          Low        Close\n",
       "Date                                                          \n",
       "2017-01-31   963.658020  1191.099976   755.755981   970.403015\n",
       "2017-02-28   970.940979  1200.390015   946.690979  1179.969971\n",
       "2017-03-31  1180.040039  1280.310059   903.713013  1071.790039\n",
       "2017-04-30  1071.709961  1347.910034  1061.089966  1347.890015\n",
       "2017-05-31  1348.300049  2763.709961  1348.300049  2286.409912"
      ]
     },
     "execution_count": 5,
     "metadata": {},
     "output_type": "execute_result"
    }
   ],
   "source": [
    "ativo.head()"
   ]
  },
  {
   "cell_type": "code",
   "execution_count": 6,
   "metadata": {
    "ExecuteTime": {
     "end_time": "2024-09-01T10:55:00.094019Z",
     "start_time": "2024-09-01T10:55:00.091482Z"
    }
   },
   "outputs": [],
   "source": [
    "ativo[\"Resultado%\"] = (ativo[\"Close\"].pct_change() * 100).round(2)"
   ]
  },
  {
   "cell_type": "code",
   "execution_count": 7,
   "metadata": {
    "ExecuteTime": {
     "end_time": "2024-09-01T10:55:00.205502Z",
     "start_time": "2024-09-01T10:55:00.202216Z"
    }
   },
   "outputs": [],
   "source": [
    "ativo[\"Mes\"] = ativo.index.month\n",
    "ativo[\"Ano\"] = ativo.index.year\n",
    "ativo[\"No.Mes\"] = ativo.index.strftime(\"%m\")"
   ]
  },
  {
   "cell_type": "code",
   "execution_count": 8,
   "metadata": {
    "ExecuteTime": {
     "end_time": "2024-09-01T10:55:00.322179Z",
     "start_time": "2024-09-01T10:55:00.320089Z"
    }
   },
   "outputs": [],
   "source": [
    "ativo = ativo.loc[\"2004\":]"
   ]
  },
  {
   "cell_type": "code",
   "execution_count": 9,
   "metadata": {
    "ExecuteTime": {
     "end_time": "2024-09-01T10:55:00.372862Z",
     "start_time": "2024-09-01T10:55:00.366875Z"
    }
   },
   "outputs": [
    {
     "data": {
      "application/vnd.microsoft.datawrangler.viewer.v0+json": {
       "columns": [
        {
         "name": "Date",
         "rawType": "datetime64[ns]",
         "type": "datetime"
        },
        {
         "name": "Open",
         "rawType": "float64",
         "type": "float"
        },
        {
         "name": "High",
         "rawType": "float64",
         "type": "float"
        },
        {
         "name": "Low",
         "rawType": "float64",
         "type": "float"
        },
        {
         "name": "Close",
         "rawType": "float64",
         "type": "float"
        },
        {
         "name": "Resultado%",
         "rawType": "float64",
         "type": "float"
        },
        {
         "name": "Mes",
         "rawType": "int32",
         "type": "integer"
        },
        {
         "name": "Ano",
         "rawType": "int32",
         "type": "integer"
        },
        {
         "name": "No.Mes",
         "rawType": "object",
         "type": "string"
        }
       ],
       "ref": "ba7676a9-9f4f-40c3-87ba-e877827f5f0b",
       "rows": [
        [
         "2017-01-31 00:00:00",
         "963.6580200195312",
         "1191.0999755859375",
         "755.7559814453125",
         "970.4030151367188",
         null,
         "1",
         "2017",
         "01"
        ],
        [
         "2017-02-28 00:00:00",
         "970.9409790039062",
         "1200.3900146484375",
         "946.6909790039062",
         "1179.969970703125",
         "21.6",
         "2",
         "2017",
         "02"
        ],
        [
         "2017-03-31 00:00:00",
         "1180.0400390625",
         "1280.31005859375",
         "903.7130126953125",
         "1071.7900390625",
         "-9.17",
         "3",
         "2017",
         "03"
        ],
        [
         "2017-04-30 00:00:00",
         "1071.7099609375",
         "1347.9100341796875",
         "1061.0899658203125",
         "1347.8900146484375",
         "25.76",
         "4",
         "2017",
         "04"
        ],
        [
         "2017-05-31 00:00:00",
         "1348.300048828125",
         "2763.7099609375",
         "1348.300048828125",
         "2286.409912109375",
         "69.63",
         "5",
         "2017",
         "05"
        ]
       ],
       "shape": {
        "columns": 8,
        "rows": 5
       }
      },
      "text/html": [
       "<div>\n",
       "<style scoped>\n",
       "    .dataframe tbody tr th:only-of-type {\n",
       "        vertical-align: middle;\n",
       "    }\n",
       "\n",
       "    .dataframe tbody tr th {\n",
       "        vertical-align: top;\n",
       "    }\n",
       "\n",
       "    .dataframe thead th {\n",
       "        text-align: right;\n",
       "    }\n",
       "</style>\n",
       "<table border=\"1\" class=\"dataframe\">\n",
       "  <thead>\n",
       "    <tr style=\"text-align: right;\">\n",
       "      <th></th>\n",
       "      <th>Open</th>\n",
       "      <th>High</th>\n",
       "      <th>Low</th>\n",
       "      <th>Close</th>\n",
       "      <th>Resultado%</th>\n",
       "      <th>Mes</th>\n",
       "      <th>Ano</th>\n",
       "      <th>No.Mes</th>\n",
       "    </tr>\n",
       "    <tr>\n",
       "      <th>Date</th>\n",
       "      <th></th>\n",
       "      <th></th>\n",
       "      <th></th>\n",
       "      <th></th>\n",
       "      <th></th>\n",
       "      <th></th>\n",
       "      <th></th>\n",
       "      <th></th>\n",
       "    </tr>\n",
       "  </thead>\n",
       "  <tbody>\n",
       "    <tr>\n",
       "      <th>2017-01-31</th>\n",
       "      <td>963.658020</td>\n",
       "      <td>1191.099976</td>\n",
       "      <td>755.755981</td>\n",
       "      <td>970.403015</td>\n",
       "      <td>NaN</td>\n",
       "      <td>1</td>\n",
       "      <td>2017</td>\n",
       "      <td>01</td>\n",
       "    </tr>\n",
       "    <tr>\n",
       "      <th>2017-02-28</th>\n",
       "      <td>970.940979</td>\n",
       "      <td>1200.390015</td>\n",
       "      <td>946.690979</td>\n",
       "      <td>1179.969971</td>\n",
       "      <td>21.60</td>\n",
       "      <td>2</td>\n",
       "      <td>2017</td>\n",
       "      <td>02</td>\n",
       "    </tr>\n",
       "    <tr>\n",
       "      <th>2017-03-31</th>\n",
       "      <td>1180.040039</td>\n",
       "      <td>1280.310059</td>\n",
       "      <td>903.713013</td>\n",
       "      <td>1071.790039</td>\n",
       "      <td>-9.17</td>\n",
       "      <td>3</td>\n",
       "      <td>2017</td>\n",
       "      <td>03</td>\n",
       "    </tr>\n",
       "    <tr>\n",
       "      <th>2017-04-30</th>\n",
       "      <td>1071.709961</td>\n",
       "      <td>1347.910034</td>\n",
       "      <td>1061.089966</td>\n",
       "      <td>1347.890015</td>\n",
       "      <td>25.76</td>\n",
       "      <td>4</td>\n",
       "      <td>2017</td>\n",
       "      <td>04</td>\n",
       "    </tr>\n",
       "    <tr>\n",
       "      <th>2017-05-31</th>\n",
       "      <td>1348.300049</td>\n",
       "      <td>2763.709961</td>\n",
       "      <td>1348.300049</td>\n",
       "      <td>2286.409912</td>\n",
       "      <td>69.63</td>\n",
       "      <td>5</td>\n",
       "      <td>2017</td>\n",
       "      <td>05</td>\n",
       "    </tr>\n",
       "  </tbody>\n",
       "</table>\n",
       "</div>"
      ],
      "text/plain": [
       "                   Open         High          Low        Close  Resultado%  \\\n",
       "Date                                                                         \n",
       "2017-01-31   963.658020  1191.099976   755.755981   970.403015         NaN   \n",
       "2017-02-28   970.940979  1200.390015   946.690979  1179.969971       21.60   \n",
       "2017-03-31  1180.040039  1280.310059   903.713013  1071.790039       -9.17   \n",
       "2017-04-30  1071.709961  1347.910034  1061.089966  1347.890015       25.76   \n",
       "2017-05-31  1348.300049  2763.709961  1348.300049  2286.409912       69.63   \n",
       "\n",
       "            Mes   Ano No.Mes  \n",
       "Date                          \n",
       "2017-01-31    1  2017     01  \n",
       "2017-02-28    2  2017     02  \n",
       "2017-03-31    3  2017     03  \n",
       "2017-04-30    4  2017     04  \n",
       "2017-05-31    5  2017     05  "
      ]
     },
     "execution_count": 9,
     "metadata": {},
     "output_type": "execute_result"
    }
   ],
   "source": [
    "ativo.head()"
   ]
  },
  {
   "cell_type": "markdown",
   "metadata": {},
   "source": [
    "## **Etapa 4: Apresentação dos Dados**"
   ]
  },
  {
   "cell_type": "code",
   "execution_count": null,
   "metadata": {
    "ExecuteTime": {
     "end_time": "2024-09-01T10:55:00.422101Z",
     "start_time": "2024-09-01T10:55:00.418054Z"
    }
   },
   "outputs": [],
   "source": [
    "def getAnaliseMensal(resultado):\n",
    "    # Cores para cada barra\n",
    "    cores = [\"#5FE8D8\" if val > 0 else \"#EB4E1C\" for val in resultado[\"Resultado%\"]]\n",
    "\n",
    "    fig = go.Figure()\n",
    "    fig.add_trace(\n",
    "        go.Bar(\n",
    "            x=resultado.index,\n",
    "            y=resultado[\"Resultado%\"],\n",
    "            marker_color=cores,\n",
    "            text=[f\"{v:.2f}\" for v in resultado[\"Resultado%\"]],\n",
    "            textposition=\"outside\",\n",
    "        )\n",
    "    )\n",
    "\n",
    "    # Configurações do layout do gráfico\n",
    "    fig.update_layout(\n",
    "        # title=\"Média Mensal do Resultado (%)\",\n",
    "        title_x=0.5,\n",
    "        xaxis=dict(\n",
    "            tickmode=\"array\",\n",
    "            tickvals=resultado.index,\n",
    "            ticktext=[\n",
    "                \"Jan\", \"Fev\", \"Mar\", \"Abr\", \"Mai\", \"Jun\", \n",
    "                \"Jul\", \"Ago\", \"Set\", \"Out\", \"Nov\", \"Dez\"\n",
    "            ],\n",
    "        ),\n",
    "        xaxis_title=\"Mês\",\n",
    "        yaxis_title=\"Variação Mensal (%)\",\n",
    "        plot_bgcolor=\"white\",\n",
    "        font=dict(size=14),\n",
    "        title_font=dict(size=20, family=\"Arial\", color=\"#222\"),\n",
    "        margin=dict(l=40, r=40, t=60, b=40),\n",
    "        yaxis=dict(showgrid=True, gridcolor=\"rgba(0,0,0,0.1)\", range=[-5, None]),\n",
    "    )\n",
    "\n",
    "    fig.update_traces(marker_line_color=\"#222\", marker_line_width=1.2)\n",
    "    fig.show()"
   ]
  },
  {
   "cell_type": "code",
   "execution_count": null,
   "metadata": {
    "ExecuteTime": {
     "end_time": "2024-09-01T10:55:24.960738Z",
     "start_time": "2024-09-01T10:55:24.954287Z"
    }
   },
   "outputs": [],
   "source": [
    "def getAnaliseAnualMensal(resultado):\n",
    "    # Ajusta os meses para ordem correta\n",
    "    meses = [\"01\", \"02\", \"03\", \"04\", \"05\", \"06\", \"07\", \"08\", \"09\", \"10\", \"11\", \"12\"]\n",
    "    mesesNome = [\n",
    "        \"Jan\",\n",
    "        \"Fev\",\n",
    "        \"Mar\",\n",
    "        \"Abr\",\n",
    "        \"Mai\",\n",
    "        \"Jun\",\n",
    "        \"Jul\",\n",
    "        \"Ago\",\n",
    "        \"Set\",\n",
    "        \"Out\",\n",
    "        \"Nov\",\n",
    "        \"Dez\",\n",
    "    ]\n",
    "\n",
    "    import numpy as np\n",
    "\n",
    "    for m in meses:\n",
    "        if m not in resultado.columns:\n",
    "            resultado[m] = np.nan\n",
    "    resultado = resultado[meses]\n",
    "    resultado.columns = mesesNome\n",
    "\n",
    "    z = resultado.values\n",
    "    z_text = np.where(~np.isnan(z), np.vectorize(lambda v: f\"{v:.2f}\")(z), \"\")\n",
    "    colors = np.where(z > 0, \"#5FE8D8\", \"#EB4E1C\")\n",
    "    colors = np.where(np.isnan(z), \"#FFFFFF\", colors)\n",
    "\n",
    "    fig = go.Figure(\n",
    "        data=go.Table(\n",
    "            header=dict(\n",
    "                values=[\"Ano\"] + list(resultado.columns),\n",
    "                fill_color=\"#222\",\n",
    "                font=dict(color=\"white\", size=18, family=\"Arial\"),\n",
    "                align=\"center\",\n",
    "                height=32,\n",
    "            ),\n",
    "            cells=dict(\n",
    "                values=[resultado.index]\n",
    "                + [resultado[col].values for col in resultado.columns],\n",
    "                fill_color=[[\"white\"] * len(resultado)]\n",
    "                + [list(colors[:, i]) for i in range(colors.shape[1])],\n",
    "                font=dict(color=\"#222\", size=16, family=\"Arial\"),\n",
    "                format=[None] + [\".2f\"] * len(resultado.columns),\n",
    "                align=\"center\",\n",
    "                height=28,\n",
    "            ),\n",
    "        )\n",
    "    )\n",
    "    fig.update_layout(\n",
    "        # title=\"Resultado Médio (%) por Ano e Mês\",\n",
    "        title_x=0.5,\n",
    "        margin=dict(l=20, r=20, t=20, b=20),\n",
    "        font=dict(size=13, family=\"Arial\"),\n",
    "        plot_bgcolor=\"white\",\n",
    "        height=325\n",
    "    )\n",
    "    fig.show()"
   ]
  },
  {
   "cell_type": "code",
   "execution_count": 12,
   "metadata": {},
   "outputs": [
    {
     "data": {
      "application/vnd.plotly.v1+json": {
       "config": {
        "plotlyServerURL": "https://plot.ly"
       },
       "data": [
        {
         "marker": {
          "color": [
           "#5FE8D8",
           "#5FE8D8",
           "#5FE8D8",
           "#5FE8D8",
           "#5FE8D8",
           "#EB4E1C",
           "#5FE8D8",
           "#5FE8D8",
           "#EB4E1C",
           "#5FE8D8",
           "#5FE8D8",
           "#5FE8D8"
          ],
          "line": {
           "color": "#222",
           "width": 1.2
          }
         },
         "text": [
          "5.26",
          "11.27",
          "1.41",
          "11.76",
          "9.40",
          "-2.80",
          "11.29",
          "3.98",
          "-4.25",
          "21.01",
          "8.67",
          "7.61"
         ],
         "textposition": "outside",
         "type": "bar",
         "x": [
          "01",
          "02",
          "03",
          "04",
          "05",
          "06",
          "07",
          "08",
          "09",
          "10",
          "11",
          "12"
         ],
         "y": [
          5.2575,
          11.274444444444445,
          1.4066666666666667,
          11.757777777777777,
          9.396666666666667,
          -2.7975000000000008,
          11.2875,
          3.9837499999999997,
          -4.25,
          21.01,
          8.67125,
          7.60625
         ]
        }
       ],
       "layout": {
        "font": {
         "size": 14
        },
        "margin": {
         "b": 40,
         "l": 40,
         "r": 40,
         "t": 60
        },
        "plot_bgcolor": "white",
        "template": {
         "data": {
          "bar": [
           {
            "error_x": {
             "color": "#2a3f5f"
            },
            "error_y": {
             "color": "#2a3f5f"
            },
            "marker": {
             "line": {
              "color": "#E5ECF6",
              "width": 0.5
             },
             "pattern": {
              "fillmode": "overlay",
              "size": 10,
              "solidity": 0.2
             }
            },
            "type": "bar"
           }
          ],
          "barpolar": [
           {
            "marker": {
             "line": {
              "color": "#E5ECF6",
              "width": 0.5
             },
             "pattern": {
              "fillmode": "overlay",
              "size": 10,
              "solidity": 0.2
             }
            },
            "type": "barpolar"
           }
          ],
          "carpet": [
           {
            "aaxis": {
             "endlinecolor": "#2a3f5f",
             "gridcolor": "white",
             "linecolor": "white",
             "minorgridcolor": "white",
             "startlinecolor": "#2a3f5f"
            },
            "baxis": {
             "endlinecolor": "#2a3f5f",
             "gridcolor": "white",
             "linecolor": "white",
             "minorgridcolor": "white",
             "startlinecolor": "#2a3f5f"
            },
            "type": "carpet"
           }
          ],
          "choropleth": [
           {
            "colorbar": {
             "outlinewidth": 0,
             "ticks": ""
            },
            "type": "choropleth"
           }
          ],
          "contour": [
           {
            "colorbar": {
             "outlinewidth": 0,
             "ticks": ""
            },
            "colorscale": [
             [
              0,
              "#0d0887"
             ],
             [
              0.1111111111111111,
              "#46039f"
             ],
             [
              0.2222222222222222,
              "#7201a8"
             ],
             [
              0.3333333333333333,
              "#9c179e"
             ],
             [
              0.4444444444444444,
              "#bd3786"
             ],
             [
              0.5555555555555556,
              "#d8576b"
             ],
             [
              0.6666666666666666,
              "#ed7953"
             ],
             [
              0.7777777777777778,
              "#fb9f3a"
             ],
             [
              0.8888888888888888,
              "#fdca26"
             ],
             [
              1,
              "#f0f921"
             ]
            ],
            "type": "contour"
           }
          ],
          "contourcarpet": [
           {
            "colorbar": {
             "outlinewidth": 0,
             "ticks": ""
            },
            "type": "contourcarpet"
           }
          ],
          "heatmap": [
           {
            "colorbar": {
             "outlinewidth": 0,
             "ticks": ""
            },
            "colorscale": [
             [
              0,
              "#0d0887"
             ],
             [
              0.1111111111111111,
              "#46039f"
             ],
             [
              0.2222222222222222,
              "#7201a8"
             ],
             [
              0.3333333333333333,
              "#9c179e"
             ],
             [
              0.4444444444444444,
              "#bd3786"
             ],
             [
              0.5555555555555556,
              "#d8576b"
             ],
             [
              0.6666666666666666,
              "#ed7953"
             ],
             [
              0.7777777777777778,
              "#fb9f3a"
             ],
             [
              0.8888888888888888,
              "#fdca26"
             ],
             [
              1,
              "#f0f921"
             ]
            ],
            "type": "heatmap"
           }
          ],
          "heatmapgl": [
           {
            "colorbar": {
             "outlinewidth": 0,
             "ticks": ""
            },
            "colorscale": [
             [
              0,
              "#0d0887"
             ],
             [
              0.1111111111111111,
              "#46039f"
             ],
             [
              0.2222222222222222,
              "#7201a8"
             ],
             [
              0.3333333333333333,
              "#9c179e"
             ],
             [
              0.4444444444444444,
              "#bd3786"
             ],
             [
              0.5555555555555556,
              "#d8576b"
             ],
             [
              0.6666666666666666,
              "#ed7953"
             ],
             [
              0.7777777777777778,
              "#fb9f3a"
             ],
             [
              0.8888888888888888,
              "#fdca26"
             ],
             [
              1,
              "#f0f921"
             ]
            ],
            "type": "heatmapgl"
           }
          ],
          "histogram": [
           {
            "marker": {
             "pattern": {
              "fillmode": "overlay",
              "size": 10,
              "solidity": 0.2
             }
            },
            "type": "histogram"
           }
          ],
          "histogram2d": [
           {
            "colorbar": {
             "outlinewidth": 0,
             "ticks": ""
            },
            "colorscale": [
             [
              0,
              "#0d0887"
             ],
             [
              0.1111111111111111,
              "#46039f"
             ],
             [
              0.2222222222222222,
              "#7201a8"
             ],
             [
              0.3333333333333333,
              "#9c179e"
             ],
             [
              0.4444444444444444,
              "#bd3786"
             ],
             [
              0.5555555555555556,
              "#d8576b"
             ],
             [
              0.6666666666666666,
              "#ed7953"
             ],
             [
              0.7777777777777778,
              "#fb9f3a"
             ],
             [
              0.8888888888888888,
              "#fdca26"
             ],
             [
              1,
              "#f0f921"
             ]
            ],
            "type": "histogram2d"
           }
          ],
          "histogram2dcontour": [
           {
            "colorbar": {
             "outlinewidth": 0,
             "ticks": ""
            },
            "colorscale": [
             [
              0,
              "#0d0887"
             ],
             [
              0.1111111111111111,
              "#46039f"
             ],
             [
              0.2222222222222222,
              "#7201a8"
             ],
             [
              0.3333333333333333,
              "#9c179e"
             ],
             [
              0.4444444444444444,
              "#bd3786"
             ],
             [
              0.5555555555555556,
              "#d8576b"
             ],
             [
              0.6666666666666666,
              "#ed7953"
             ],
             [
              0.7777777777777778,
              "#fb9f3a"
             ],
             [
              0.8888888888888888,
              "#fdca26"
             ],
             [
              1,
              "#f0f921"
             ]
            ],
            "type": "histogram2dcontour"
           }
          ],
          "mesh3d": [
           {
            "colorbar": {
             "outlinewidth": 0,
             "ticks": ""
            },
            "type": "mesh3d"
           }
          ],
          "parcoords": [
           {
            "line": {
             "colorbar": {
              "outlinewidth": 0,
              "ticks": ""
             }
            },
            "type": "parcoords"
           }
          ],
          "pie": [
           {
            "automargin": true,
            "type": "pie"
           }
          ],
          "scatter": [
           {
            "fillpattern": {
             "fillmode": "overlay",
             "size": 10,
             "solidity": 0.2
            },
            "type": "scatter"
           }
          ],
          "scatter3d": [
           {
            "line": {
             "colorbar": {
              "outlinewidth": 0,
              "ticks": ""
             }
            },
            "marker": {
             "colorbar": {
              "outlinewidth": 0,
              "ticks": ""
             }
            },
            "type": "scatter3d"
           }
          ],
          "scattercarpet": [
           {
            "marker": {
             "colorbar": {
              "outlinewidth": 0,
              "ticks": ""
             }
            },
            "type": "scattercarpet"
           }
          ],
          "scattergeo": [
           {
            "marker": {
             "colorbar": {
              "outlinewidth": 0,
              "ticks": ""
             }
            },
            "type": "scattergeo"
           }
          ],
          "scattergl": [
           {
            "marker": {
             "colorbar": {
              "outlinewidth": 0,
              "ticks": ""
             }
            },
            "type": "scattergl"
           }
          ],
          "scattermapbox": [
           {
            "marker": {
             "colorbar": {
              "outlinewidth": 0,
              "ticks": ""
             }
            },
            "type": "scattermapbox"
           }
          ],
          "scatterpolar": [
           {
            "marker": {
             "colorbar": {
              "outlinewidth": 0,
              "ticks": ""
             }
            },
            "type": "scatterpolar"
           }
          ],
          "scatterpolargl": [
           {
            "marker": {
             "colorbar": {
              "outlinewidth": 0,
              "ticks": ""
             }
            },
            "type": "scatterpolargl"
           }
          ],
          "scatterternary": [
           {
            "marker": {
             "colorbar": {
              "outlinewidth": 0,
              "ticks": ""
             }
            },
            "type": "scatterternary"
           }
          ],
          "surface": [
           {
            "colorbar": {
             "outlinewidth": 0,
             "ticks": ""
            },
            "colorscale": [
             [
              0,
              "#0d0887"
             ],
             [
              0.1111111111111111,
              "#46039f"
             ],
             [
              0.2222222222222222,
              "#7201a8"
             ],
             [
              0.3333333333333333,
              "#9c179e"
             ],
             [
              0.4444444444444444,
              "#bd3786"
             ],
             [
              0.5555555555555556,
              "#d8576b"
             ],
             [
              0.6666666666666666,
              "#ed7953"
             ],
             [
              0.7777777777777778,
              "#fb9f3a"
             ],
             [
              0.8888888888888888,
              "#fdca26"
             ],
             [
              1,
              "#f0f921"
             ]
            ],
            "type": "surface"
           }
          ],
          "table": [
           {
            "cells": {
             "fill": {
              "color": "#EBF0F8"
             },
             "line": {
              "color": "white"
             }
            },
            "header": {
             "fill": {
              "color": "#C8D4E3"
             },
             "line": {
              "color": "white"
             }
            },
            "type": "table"
           }
          ]
         },
         "layout": {
          "annotationdefaults": {
           "arrowcolor": "#2a3f5f",
           "arrowhead": 0,
           "arrowwidth": 1
          },
          "autotypenumbers": "strict",
          "coloraxis": {
           "colorbar": {
            "outlinewidth": 0,
            "ticks": ""
           }
          },
          "colorscale": {
           "diverging": [
            [
             0,
             "#8e0152"
            ],
            [
             0.1,
             "#c51b7d"
            ],
            [
             0.2,
             "#de77ae"
            ],
            [
             0.3,
             "#f1b6da"
            ],
            [
             0.4,
             "#fde0ef"
            ],
            [
             0.5,
             "#f7f7f7"
            ],
            [
             0.6,
             "#e6f5d0"
            ],
            [
             0.7,
             "#b8e186"
            ],
            [
             0.8,
             "#7fbc41"
            ],
            [
             0.9,
             "#4d9221"
            ],
            [
             1,
             "#276419"
            ]
           ],
           "sequential": [
            [
             0,
             "#0d0887"
            ],
            [
             0.1111111111111111,
             "#46039f"
            ],
            [
             0.2222222222222222,
             "#7201a8"
            ],
            [
             0.3333333333333333,
             "#9c179e"
            ],
            [
             0.4444444444444444,
             "#bd3786"
            ],
            [
             0.5555555555555556,
             "#d8576b"
            ],
            [
             0.6666666666666666,
             "#ed7953"
            ],
            [
             0.7777777777777778,
             "#fb9f3a"
            ],
            [
             0.8888888888888888,
             "#fdca26"
            ],
            [
             1,
             "#f0f921"
            ]
           ],
           "sequentialminus": [
            [
             0,
             "#0d0887"
            ],
            [
             0.1111111111111111,
             "#46039f"
            ],
            [
             0.2222222222222222,
             "#7201a8"
            ],
            [
             0.3333333333333333,
             "#9c179e"
            ],
            [
             0.4444444444444444,
             "#bd3786"
            ],
            [
             0.5555555555555556,
             "#d8576b"
            ],
            [
             0.6666666666666666,
             "#ed7953"
            ],
            [
             0.7777777777777778,
             "#fb9f3a"
            ],
            [
             0.8888888888888888,
             "#fdca26"
            ],
            [
             1,
             "#f0f921"
            ]
           ]
          },
          "colorway": [
           "#636efa",
           "#EF553B",
           "#00cc96",
           "#ab63fa",
           "#FFA15A",
           "#19d3f3",
           "#FF6692",
           "#B6E880",
           "#FF97FF",
           "#FECB52"
          ],
          "font": {
           "color": "#2a3f5f"
          },
          "geo": {
           "bgcolor": "white",
           "lakecolor": "white",
           "landcolor": "#E5ECF6",
           "showlakes": true,
           "showland": true,
           "subunitcolor": "white"
          },
          "hoverlabel": {
           "align": "left"
          },
          "hovermode": "closest",
          "mapbox": {
           "style": "light"
          },
          "paper_bgcolor": "white",
          "plot_bgcolor": "#E5ECF6",
          "polar": {
           "angularaxis": {
            "gridcolor": "white",
            "linecolor": "white",
            "ticks": ""
           },
           "bgcolor": "#E5ECF6",
           "radialaxis": {
            "gridcolor": "white",
            "linecolor": "white",
            "ticks": ""
           }
          },
          "scene": {
           "xaxis": {
            "backgroundcolor": "#E5ECF6",
            "gridcolor": "white",
            "gridwidth": 2,
            "linecolor": "white",
            "showbackground": true,
            "ticks": "",
            "zerolinecolor": "white"
           },
           "yaxis": {
            "backgroundcolor": "#E5ECF6",
            "gridcolor": "white",
            "gridwidth": 2,
            "linecolor": "white",
            "showbackground": true,
            "ticks": "",
            "zerolinecolor": "white"
           },
           "zaxis": {
            "backgroundcolor": "#E5ECF6",
            "gridcolor": "white",
            "gridwidth": 2,
            "linecolor": "white",
            "showbackground": true,
            "ticks": "",
            "zerolinecolor": "white"
           }
          },
          "shapedefaults": {
           "line": {
            "color": "#2a3f5f"
           }
          },
          "ternary": {
           "aaxis": {
            "gridcolor": "white",
            "linecolor": "white",
            "ticks": ""
           },
           "baxis": {
            "gridcolor": "white",
            "linecolor": "white",
            "ticks": ""
           },
           "bgcolor": "#E5ECF6",
           "caxis": {
            "gridcolor": "white",
            "linecolor": "white",
            "ticks": ""
           }
          },
          "title": {
           "x": 0.05
          },
          "xaxis": {
           "automargin": true,
           "gridcolor": "white",
           "linecolor": "white",
           "ticks": "",
           "title": {
            "standoff": 15
           },
           "zerolinecolor": "white",
           "zerolinewidth": 2
          },
          "yaxis": {
           "automargin": true,
           "gridcolor": "white",
           "linecolor": "white",
           "ticks": "",
           "title": {
            "standoff": 15
           },
           "zerolinecolor": "white",
           "zerolinewidth": 2
          }
         }
        },
        "title": {
         "font": {
          "color": "#222",
          "family": "Arial",
          "size": 20
         },
         "x": 0.5
        },
        "xaxis": {
         "tickmode": "array",
         "ticktext": [
          "Jan",
          "Fev",
          "Mar",
          "Abr",
          "Mai",
          "Jun",
          "Jul",
          "Ago",
          "Set",
          "Out",
          "Nov",
          "Dez"
         ],
         "tickvals": [
          "01",
          "02",
          "03",
          "04",
          "05",
          "06",
          "07",
          "08",
          "09",
          "10",
          "11",
          "12"
         ],
         "title": {
          "text": "Mês"
         }
        },
        "yaxis": {
         "gridcolor": "rgba(0,0,0,0.1)",
         "range": [
          -5,
          null
         ],
         "showgrid": true,
         "title": {
          "text": "Variação Mensal (%)"
         }
        }
       }
      }
     },
     "metadata": {},
     "output_type": "display_data"
    }
   ],
   "source": [
    "resultadoMensal = pd.pivot_table(\n",
    "    ativo, values=\"Resultado%\", index=\"No.Mes\", columns=[], aggfunc=\"mean\"\n",
    ")\n",
    "\n",
    "getAnaliseMensal(resultadoMensal)"
   ]
  },
  {
   "cell_type": "code",
   "execution_count": 13,
   "metadata": {},
   "outputs": [
    {
     "data": {
      "application/vnd.plotly.v1+json": {
       "config": {
        "plotlyServerURL": "https://plot.ly"
       },
       "data": [
        {
         "cells": {
          "align": "center",
          "fill": {
           "color": [
            [
             "white",
             "white",
             "white",
             "white",
             "white",
             "white",
             "white",
             "white",
             "white"
            ],
            [
             "#FFFFFF",
             "#EB4E1C",
             "#EB4E1C",
             "#5FE8D8",
             "#5FE8D8",
             "#EB4E1C",
             "#5FE8D8",
             "#5FE8D8",
             "#5FE8D8"
            ],
            [
             "#5FE8D8",
             "#5FE8D8",
             "#5FE8D8",
             "#EB4E1C",
             "#5FE8D8",
             "#5FE8D8",
             "#5FE8D8",
             "#5FE8D8",
             "#EB4E1C"
            ],
            [
             "#EB4E1C",
             "#EB4E1C",
             "#5FE8D8",
             "#EB4E1C",
             "#5FE8D8",
             "#5FE8D8",
             "#5FE8D8",
             "#5FE8D8",
             "#EB4E1C"
            ],
            [
             "#5FE8D8",
             "#5FE8D8",
             "#5FE8D8",
             "#5FE8D8",
             "#EB4E1C",
             "#EB4E1C",
             "#5FE8D8",
             "#EB4E1C",
             "#5FE8D8"
            ],
            [
             "#5FE8D8",
             "#EB4E1C",
             "#5FE8D8",
             "#5FE8D8",
             "#EB4E1C",
             "#EB4E1C",
             "#EB4E1C",
             "#5FE8D8",
             "#5FE8D8"
            ],
            [
             "#5FE8D8",
             "#EB4E1C",
             "#5FE8D8",
             "#EB4E1C",
             "#EB4E1C",
             "#EB4E1C",
             "#5FE8D8",
             "#EB4E1C",
             "#FFFFFF"
            ],
            [
             "#5FE8D8",
             "#5FE8D8",
             "#EB4E1C",
             "#5FE8D8",
             "#5FE8D8",
             "#5FE8D8",
             "#EB4E1C",
             "#5FE8D8",
             "#FFFFFF"
            ],
            [
             "#5FE8D8",
             "#EB4E1C",
             "#EB4E1C",
             "#5FE8D8",
             "#5FE8D8",
             "#EB4E1C",
             "#EB4E1C",
             "#EB4E1C",
             "#FFFFFF"
            ],
            [
             "#EB4E1C",
             "#EB4E1C",
             "#EB4E1C",
             "#EB4E1C",
             "#EB4E1C",
             "#EB4E1C",
             "#5FE8D8",
             "#5FE8D8",
             "#FFFFFF"
            ],
            [
             "#5FE8D8",
             "#EB4E1C",
             "#5FE8D8",
             "#5FE8D8",
             "#5FE8D8",
             "#5FE8D8",
             "#5FE8D8",
             "#5FE8D8",
             "#FFFFFF"
            ],
            [
             "#5FE8D8",
             "#EB4E1C",
             "#EB4E1C",
             "#5FE8D8",
             "#EB4E1C",
             "#EB4E1C",
             "#5FE8D8",
             "#5FE8D8",
             "#FFFFFF"
            ],
            [
             "#5FE8D8",
             "#EB4E1C",
             "#EB4E1C",
             "#5FE8D8",
             "#EB4E1C",
             "#EB4E1C",
             "#5FE8D8",
             "#EB4E1C",
             "#FFFFFF"
            ]
           ]
          },
          "font": {
           "color": "#222",
           "family": "Arial",
           "size": 16
          },
          "format": [
           null,
           ".2f",
           ".2f",
           ".2f",
           ".2f",
           ".2f",
           ".2f",
           ".2f",
           ".2f",
           ".2f",
           ".2f",
           ".2f",
           ".2f"
          ],
          "height": 28,
          "values": [
           [
            2017,
            2018,
            2019,
            2020,
            2021,
            2022,
            2023,
            2024,
            2025
           ],
           [
            null,
            -27.8,
            -7.61,
            29.98,
            14.18,
            -16.89,
            39.84,
            0.75,
            9.61
           ],
           [
            21.6,
            1.73,
            11.48,
            -8.03,
            36.31,
            12.24,
            0.03,
            43.72,
            -17.61
           ],
           [
            -9.17,
            -32.93,
            6.5,
            -25.13,
            30.53,
            5.43,
            23.03,
            16.56,
            -2.16
           ],
           [
            25.76,
            32.51,
            30.33,
            34.48,
            -1.98,
            -17.18,
            2.78,
            -15,
            14.12
           ],
           [
            69.63,
            -18.9,
            60.25,
            9.27,
            -35.35,
            -15.7,
            -7,
            11.3,
            11.07
           ],
           [
            8.5,
            -14.55,
            26.15,
            -3.41,
            -6.14,
            -37.77,
            11.97,
            -7.13,
            null
           ],
           [
            15.9,
            21.49,
            -6.76,
            23.92,
            18.79,
            17.95,
            -4.09,
            3.1,
            null
           ],
           [
            63.58,
            -9.55,
            -4.51,
            3.16,
            13.31,
            -14.09,
            -11.29,
            -8.74,
            null
           ],
           [
            -7.75,
            -5.85,
            -13.88,
            -7.67,
            -7.16,
            -3.08,
            4,
            7.39,
            null
           ],
           [
            49.09,
            -4.65,
            10.92,
            27.79,
            40.03,
            5.48,
            28.55,
            10.87,
            null
           ],
           [
            58.21,
            -36.41,
            -17.72,
            42.41,
            -7.03,
            -16.23,
            8.78,
            37.36,
            null
           ],
           [
            38.33,
            -6.83,
            -4.97,
            47.77,
            -18.77,
            -3.62,
            12.07,
            -3.13,
            null
           ]
          ]
         },
         "header": {
          "align": "center",
          "fill": {
           "color": "#222"
          },
          "font": {
           "color": "white",
           "family": "Arial",
           "size": 18
          },
          "height": 32,
          "values": [
           "Ano",
           "Jan",
           "Fev",
           "Mar",
           "Abr",
           "Mai",
           "Jun",
           "Jul",
           "Ago",
           "Set",
           "Out",
           "Nov",
           "Dez"
          ]
         },
         "type": "table"
        }
       ],
       "layout": {
        "font": {
         "family": "Arial",
         "size": 13
        },
        "height": 325,
        "margin": {
         "b": 20,
         "l": 20,
         "r": 20,
         "t": 20
        },
        "plot_bgcolor": "white",
        "template": {
         "data": {
          "bar": [
           {
            "error_x": {
             "color": "#2a3f5f"
            },
            "error_y": {
             "color": "#2a3f5f"
            },
            "marker": {
             "line": {
              "color": "#E5ECF6",
              "width": 0.5
             },
             "pattern": {
              "fillmode": "overlay",
              "size": 10,
              "solidity": 0.2
             }
            },
            "type": "bar"
           }
          ],
          "barpolar": [
           {
            "marker": {
             "line": {
              "color": "#E5ECF6",
              "width": 0.5
             },
             "pattern": {
              "fillmode": "overlay",
              "size": 10,
              "solidity": 0.2
             }
            },
            "type": "barpolar"
           }
          ],
          "carpet": [
           {
            "aaxis": {
             "endlinecolor": "#2a3f5f",
             "gridcolor": "white",
             "linecolor": "white",
             "minorgridcolor": "white",
             "startlinecolor": "#2a3f5f"
            },
            "baxis": {
             "endlinecolor": "#2a3f5f",
             "gridcolor": "white",
             "linecolor": "white",
             "minorgridcolor": "white",
             "startlinecolor": "#2a3f5f"
            },
            "type": "carpet"
           }
          ],
          "choropleth": [
           {
            "colorbar": {
             "outlinewidth": 0,
             "ticks": ""
            },
            "type": "choropleth"
           }
          ],
          "contour": [
           {
            "colorbar": {
             "outlinewidth": 0,
             "ticks": ""
            },
            "colorscale": [
             [
              0,
              "#0d0887"
             ],
             [
              0.1111111111111111,
              "#46039f"
             ],
             [
              0.2222222222222222,
              "#7201a8"
             ],
             [
              0.3333333333333333,
              "#9c179e"
             ],
             [
              0.4444444444444444,
              "#bd3786"
             ],
             [
              0.5555555555555556,
              "#d8576b"
             ],
             [
              0.6666666666666666,
              "#ed7953"
             ],
             [
              0.7777777777777778,
              "#fb9f3a"
             ],
             [
              0.8888888888888888,
              "#fdca26"
             ],
             [
              1,
              "#f0f921"
             ]
            ],
            "type": "contour"
           }
          ],
          "contourcarpet": [
           {
            "colorbar": {
             "outlinewidth": 0,
             "ticks": ""
            },
            "type": "contourcarpet"
           }
          ],
          "heatmap": [
           {
            "colorbar": {
             "outlinewidth": 0,
             "ticks": ""
            },
            "colorscale": [
             [
              0,
              "#0d0887"
             ],
             [
              0.1111111111111111,
              "#46039f"
             ],
             [
              0.2222222222222222,
              "#7201a8"
             ],
             [
              0.3333333333333333,
              "#9c179e"
             ],
             [
              0.4444444444444444,
              "#bd3786"
             ],
             [
              0.5555555555555556,
              "#d8576b"
             ],
             [
              0.6666666666666666,
              "#ed7953"
             ],
             [
              0.7777777777777778,
              "#fb9f3a"
             ],
             [
              0.8888888888888888,
              "#fdca26"
             ],
             [
              1,
              "#f0f921"
             ]
            ],
            "type": "heatmap"
           }
          ],
          "heatmapgl": [
           {
            "colorbar": {
             "outlinewidth": 0,
             "ticks": ""
            },
            "colorscale": [
             [
              0,
              "#0d0887"
             ],
             [
              0.1111111111111111,
              "#46039f"
             ],
             [
              0.2222222222222222,
              "#7201a8"
             ],
             [
              0.3333333333333333,
              "#9c179e"
             ],
             [
              0.4444444444444444,
              "#bd3786"
             ],
             [
              0.5555555555555556,
              "#d8576b"
             ],
             [
              0.6666666666666666,
              "#ed7953"
             ],
             [
              0.7777777777777778,
              "#fb9f3a"
             ],
             [
              0.8888888888888888,
              "#fdca26"
             ],
             [
              1,
              "#f0f921"
             ]
            ],
            "type": "heatmapgl"
           }
          ],
          "histogram": [
           {
            "marker": {
             "pattern": {
              "fillmode": "overlay",
              "size": 10,
              "solidity": 0.2
             }
            },
            "type": "histogram"
           }
          ],
          "histogram2d": [
           {
            "colorbar": {
             "outlinewidth": 0,
             "ticks": ""
            },
            "colorscale": [
             [
              0,
              "#0d0887"
             ],
             [
              0.1111111111111111,
              "#46039f"
             ],
             [
              0.2222222222222222,
              "#7201a8"
             ],
             [
              0.3333333333333333,
              "#9c179e"
             ],
             [
              0.4444444444444444,
              "#bd3786"
             ],
             [
              0.5555555555555556,
              "#d8576b"
             ],
             [
              0.6666666666666666,
              "#ed7953"
             ],
             [
              0.7777777777777778,
              "#fb9f3a"
             ],
             [
              0.8888888888888888,
              "#fdca26"
             ],
             [
              1,
              "#f0f921"
             ]
            ],
            "type": "histogram2d"
           }
          ],
          "histogram2dcontour": [
           {
            "colorbar": {
             "outlinewidth": 0,
             "ticks": ""
            },
            "colorscale": [
             [
              0,
              "#0d0887"
             ],
             [
              0.1111111111111111,
              "#46039f"
             ],
             [
              0.2222222222222222,
              "#7201a8"
             ],
             [
              0.3333333333333333,
              "#9c179e"
             ],
             [
              0.4444444444444444,
              "#bd3786"
             ],
             [
              0.5555555555555556,
              "#d8576b"
             ],
             [
              0.6666666666666666,
              "#ed7953"
             ],
             [
              0.7777777777777778,
              "#fb9f3a"
             ],
             [
              0.8888888888888888,
              "#fdca26"
             ],
             [
              1,
              "#f0f921"
             ]
            ],
            "type": "histogram2dcontour"
           }
          ],
          "mesh3d": [
           {
            "colorbar": {
             "outlinewidth": 0,
             "ticks": ""
            },
            "type": "mesh3d"
           }
          ],
          "parcoords": [
           {
            "line": {
             "colorbar": {
              "outlinewidth": 0,
              "ticks": ""
             }
            },
            "type": "parcoords"
           }
          ],
          "pie": [
           {
            "automargin": true,
            "type": "pie"
           }
          ],
          "scatter": [
           {
            "fillpattern": {
             "fillmode": "overlay",
             "size": 10,
             "solidity": 0.2
            },
            "type": "scatter"
           }
          ],
          "scatter3d": [
           {
            "line": {
             "colorbar": {
              "outlinewidth": 0,
              "ticks": ""
             }
            },
            "marker": {
             "colorbar": {
              "outlinewidth": 0,
              "ticks": ""
             }
            },
            "type": "scatter3d"
           }
          ],
          "scattercarpet": [
           {
            "marker": {
             "colorbar": {
              "outlinewidth": 0,
              "ticks": ""
             }
            },
            "type": "scattercarpet"
           }
          ],
          "scattergeo": [
           {
            "marker": {
             "colorbar": {
              "outlinewidth": 0,
              "ticks": ""
             }
            },
            "type": "scattergeo"
           }
          ],
          "scattergl": [
           {
            "marker": {
             "colorbar": {
              "outlinewidth": 0,
              "ticks": ""
             }
            },
            "type": "scattergl"
           }
          ],
          "scattermapbox": [
           {
            "marker": {
             "colorbar": {
              "outlinewidth": 0,
              "ticks": ""
             }
            },
            "type": "scattermapbox"
           }
          ],
          "scatterpolar": [
           {
            "marker": {
             "colorbar": {
              "outlinewidth": 0,
              "ticks": ""
             }
            },
            "type": "scatterpolar"
           }
          ],
          "scatterpolargl": [
           {
            "marker": {
             "colorbar": {
              "outlinewidth": 0,
              "ticks": ""
             }
            },
            "type": "scatterpolargl"
           }
          ],
          "scatterternary": [
           {
            "marker": {
             "colorbar": {
              "outlinewidth": 0,
              "ticks": ""
             }
            },
            "type": "scatterternary"
           }
          ],
          "surface": [
           {
            "colorbar": {
             "outlinewidth": 0,
             "ticks": ""
            },
            "colorscale": [
             [
              0,
              "#0d0887"
             ],
             [
              0.1111111111111111,
              "#46039f"
             ],
             [
              0.2222222222222222,
              "#7201a8"
             ],
             [
              0.3333333333333333,
              "#9c179e"
             ],
             [
              0.4444444444444444,
              "#bd3786"
             ],
             [
              0.5555555555555556,
              "#d8576b"
             ],
             [
              0.6666666666666666,
              "#ed7953"
             ],
             [
              0.7777777777777778,
              "#fb9f3a"
             ],
             [
              0.8888888888888888,
              "#fdca26"
             ],
             [
              1,
              "#f0f921"
             ]
            ],
            "type": "surface"
           }
          ],
          "table": [
           {
            "cells": {
             "fill": {
              "color": "#EBF0F8"
             },
             "line": {
              "color": "white"
             }
            },
            "header": {
             "fill": {
              "color": "#C8D4E3"
             },
             "line": {
              "color": "white"
             }
            },
            "type": "table"
           }
          ]
         },
         "layout": {
          "annotationdefaults": {
           "arrowcolor": "#2a3f5f",
           "arrowhead": 0,
           "arrowwidth": 1
          },
          "autotypenumbers": "strict",
          "coloraxis": {
           "colorbar": {
            "outlinewidth": 0,
            "ticks": ""
           }
          },
          "colorscale": {
           "diverging": [
            [
             0,
             "#8e0152"
            ],
            [
             0.1,
             "#c51b7d"
            ],
            [
             0.2,
             "#de77ae"
            ],
            [
             0.3,
             "#f1b6da"
            ],
            [
             0.4,
             "#fde0ef"
            ],
            [
             0.5,
             "#f7f7f7"
            ],
            [
             0.6,
             "#e6f5d0"
            ],
            [
             0.7,
             "#b8e186"
            ],
            [
             0.8,
             "#7fbc41"
            ],
            [
             0.9,
             "#4d9221"
            ],
            [
             1,
             "#276419"
            ]
           ],
           "sequential": [
            [
             0,
             "#0d0887"
            ],
            [
             0.1111111111111111,
             "#46039f"
            ],
            [
             0.2222222222222222,
             "#7201a8"
            ],
            [
             0.3333333333333333,
             "#9c179e"
            ],
            [
             0.4444444444444444,
             "#bd3786"
            ],
            [
             0.5555555555555556,
             "#d8576b"
            ],
            [
             0.6666666666666666,
             "#ed7953"
            ],
            [
             0.7777777777777778,
             "#fb9f3a"
            ],
            [
             0.8888888888888888,
             "#fdca26"
            ],
            [
             1,
             "#f0f921"
            ]
           ],
           "sequentialminus": [
            [
             0,
             "#0d0887"
            ],
            [
             0.1111111111111111,
             "#46039f"
            ],
            [
             0.2222222222222222,
             "#7201a8"
            ],
            [
             0.3333333333333333,
             "#9c179e"
            ],
            [
             0.4444444444444444,
             "#bd3786"
            ],
            [
             0.5555555555555556,
             "#d8576b"
            ],
            [
             0.6666666666666666,
             "#ed7953"
            ],
            [
             0.7777777777777778,
             "#fb9f3a"
            ],
            [
             0.8888888888888888,
             "#fdca26"
            ],
            [
             1,
             "#f0f921"
            ]
           ]
          },
          "colorway": [
           "#636efa",
           "#EF553B",
           "#00cc96",
           "#ab63fa",
           "#FFA15A",
           "#19d3f3",
           "#FF6692",
           "#B6E880",
           "#FF97FF",
           "#FECB52"
          ],
          "font": {
           "color": "#2a3f5f"
          },
          "geo": {
           "bgcolor": "white",
           "lakecolor": "white",
           "landcolor": "#E5ECF6",
           "showlakes": true,
           "showland": true,
           "subunitcolor": "white"
          },
          "hoverlabel": {
           "align": "left"
          },
          "hovermode": "closest",
          "mapbox": {
           "style": "light"
          },
          "paper_bgcolor": "white",
          "plot_bgcolor": "#E5ECF6",
          "polar": {
           "angularaxis": {
            "gridcolor": "white",
            "linecolor": "white",
            "ticks": ""
           },
           "bgcolor": "#E5ECF6",
           "radialaxis": {
            "gridcolor": "white",
            "linecolor": "white",
            "ticks": ""
           }
          },
          "scene": {
           "xaxis": {
            "backgroundcolor": "#E5ECF6",
            "gridcolor": "white",
            "gridwidth": 2,
            "linecolor": "white",
            "showbackground": true,
            "ticks": "",
            "zerolinecolor": "white"
           },
           "yaxis": {
            "backgroundcolor": "#E5ECF6",
            "gridcolor": "white",
            "gridwidth": 2,
            "linecolor": "white",
            "showbackground": true,
            "ticks": "",
            "zerolinecolor": "white"
           },
           "zaxis": {
            "backgroundcolor": "#E5ECF6",
            "gridcolor": "white",
            "gridwidth": 2,
            "linecolor": "white",
            "showbackground": true,
            "ticks": "",
            "zerolinecolor": "white"
           }
          },
          "shapedefaults": {
           "line": {
            "color": "#2a3f5f"
           }
          },
          "ternary": {
           "aaxis": {
            "gridcolor": "white",
            "linecolor": "white",
            "ticks": ""
           },
           "baxis": {
            "gridcolor": "white",
            "linecolor": "white",
            "ticks": ""
           },
           "bgcolor": "#E5ECF6",
           "caxis": {
            "gridcolor": "white",
            "linecolor": "white",
            "ticks": ""
           }
          },
          "title": {
           "x": 0.05
          },
          "xaxis": {
           "automargin": true,
           "gridcolor": "white",
           "linecolor": "white",
           "ticks": "",
           "title": {
            "standoff": 15
           },
           "zerolinecolor": "white",
           "zerolinewidth": 2
          },
          "yaxis": {
           "automargin": true,
           "gridcolor": "white",
           "linecolor": "white",
           "ticks": "",
           "title": {
            "standoff": 15
           },
           "zerolinecolor": "white",
           "zerolinewidth": 2
          }
         }
        },
        "title": {
         "x": 0.5
        }
       }
      }
     },
     "metadata": {},
     "output_type": "display_data"
    }
   ],
   "source": [
    "resultadoAnualMensal = pd.pivot_table(\n",
    "    ativo,\n",
    "    values=\"Resultado%\",\n",
    "    index=[\"Ano\"],\n",
    "    columns=[\"No.Mes\"],\n",
    "    aggfunc=\"mean\",\n",
    ")\n",
    "\n",
    "getAnaliseAnualMensal(resultadoAnualMensal)"
   ]
  },
  {
   "cell_type": "markdown",
   "metadata": {},
   "source": [
    "## **Etapa 5: Salvar Dataset**"
   ]
  },
  {
   "cell_type": "code",
   "execution_count": 14,
   "metadata": {},
   "outputs": [],
   "source": [
    "ativo.to_csv(\"DataCoin.csv\", index=True, decimal=\",\", float_format=\"%.2f\")"
   ]
  }
 ],
 "metadata": {
  "kernelspec": {
   "display_name": "base",
   "language": "python",
   "name": "python3"
  },
  "language_info": {
   "codemirror_mode": {
    "name": "ipython",
    "version": 3
   },
   "file_extension": ".py",
   "mimetype": "text/x-python",
   "name": "python",
   "nbconvert_exporter": "python",
   "pygments_lexer": "ipython3",
   "version": "3.12.3"
  }
 },
 "nbformat": 4,
 "nbformat_minor": 2
}
